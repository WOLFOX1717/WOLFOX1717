{
  "nbformat": 4,
  "nbformat_minor": 0,
  "metadata": {
    "colab": {
      "provenance": [],
      "authorship_tag": "ABX9TyMcR8mLrHpjmmLdSaEf0onI",
      "include_colab_link": true
    },
    "kernelspec": {
      "name": "python3",
      "display_name": "Python 3"
    },
    "language_info": {
      "name": "python"
    }
  },
  "cells": [
    {
      "cell_type": "markdown",
      "metadata": {
        "id": "view-in-github",
        "colab_type": "text"
      },
      "source": [
        "<a href=\"https://colab.research.google.com/github/WOLFOX1717/WOLFOX1717/blob/main/darkmode_pdf_convert.ipynb\" target=\"_parent\"><img src=\"https://colab.research.google.com/assets/colab-badge.svg\" alt=\"Open In Colab\"/></a>"
      ]
    },
    {
      "cell_type": "code",
      "execution_count": 1,
      "metadata": {
        "colab": {
          "base_uri": "https://localhost:8080/"
        },
        "id": "Q75_UyeZaFT7",
        "outputId": "c0d7f7dc-9329-482c-893b-4edbd2d38e7f"
      },
      "outputs": [
        {
          "output_type": "stream",
          "name": "stdout",
          "text": [
            "Collecting pymupdf\n",
            "  Downloading pymupdf-1.25.1-cp39-abi3-manylinux2014_x86_64.manylinux_2_17_x86_64.whl.metadata (3.4 kB)\n",
            "Requirement already satisfied: pillow in /usr/local/lib/python3.10/dist-packages (11.0.0)\n",
            "Downloading pymupdf-1.25.1-cp39-abi3-manylinux2014_x86_64.manylinux_2_17_x86_64.whl (20.0 MB)\n",
            "\u001b[2K   \u001b[90m━━━━━━━━━━━━━━━━━━━━━━━━━━━━━━━━━━━━━━━━\u001b[0m \u001b[32m20.0/20.0 MB\u001b[0m \u001b[31m51.3 MB/s\u001b[0m eta \u001b[36m0:00:00\u001b[0m\n",
            "\u001b[?25hInstalling collected packages: pymupdf\n",
            "Successfully installed pymupdf-1.25.1\n"
          ]
        }
      ],
      "source": [
        "pip install pymupdf pillow\n"
      ]
    },
    {
      "cell_type": "code",
      "source": [
        "pip install pymupdf pillow\n",
        "\n",
        "import fitz  # PyMuPDF\n",
        "from PIL import Image, ImageOps\n",
        "import os\n",
        "\n",
        "def convert_pdf_to_dark_mode(input_pdf_path, output_pdf_path, bg_color=(0, 0, 0), fg_color=(255, 255, 255), dpi=150, image_quality=80):\n",
        "    \"\"\"\n",
        "    Converts a PDF to dark mode by inverting the colors.\n",
        "\n",
        "    Args:\n",
        "        input_pdf_path (str): Path to the input PDF.\n",
        "        output_pdf_path (str): Path to save the output PDF.\n",
        "        bg_color (tuple): Background color in RGB (default is black).\n",
        "        fg_color (tuple): Foreground color in RGB (default is white).\n",
        "        dpi (int): Resolution of the output images in DPI (default is 150).\n",
        "        image_quality (int): Quality of JPEG images (1-100, default is 80).\n",
        "    \"\"\"\n",
        "    # Open the PDF\n",
        "    pdf_document = fitz.open(input_pdf_path)\n",
        "\n",
        "    # Create a temporary directory to save processed images\n",
        "    temp_images_dir = \"temp_images\"\n",
        "    os.makedirs(temp_images_dir, exist_ok=True)\n",
        "\n",
        "    # Process each page\n",
        "    image_paths = []\n",
        "    for page_number in range(len(pdf_document)):\n",
        "        # Get the page as a pixmap (image) with reduced DPI\n",
        "        page = pdf_document.load_page(page_number)\n",
        "        pix = page.get_pixmap(dpi=dpi)\n",
        "\n",
        "        # Convert pixmap to PIL Image\n",
        "        image = Image.frombytes(\"RGB\", [pix.width, pix.height], pix.samples)\n",
        "\n",
        "        # Invert colors and apply dark mode\n",
        "        inverted_image = ImageOps.invert(image)\n",
        "        dark_mode_image = ImageOps.colorize(inverted_image.convert(\"L\"), black=bg_color, white=fg_color)\n",
        "\n",
        "        # Save the image as a compressed JPEG\n",
        "        image_path = os.path.join(temp_images_dir, f\"page_{page_number + 1}.jpg\")\n",
        "        dark_mode_image.save(image_path, \"JPEG\", quality=image_quality)\n",
        "        image_paths.append(image_path)\n",
        "\n",
        "    # Create a new PDF with the processed images\n",
        "    pdf_writer = fitz.open()\n",
        "    for image_path in image_paths:\n",
        "        # Insert each processed image as a page\n",
        "        img = Image.open(image_path)\n",
        "        rect = fitz.Rect(0, 0, img.width, img.height)\n",
        "        pdf_page = pdf_writer.new_page(width=img.width, height=img.height)\n",
        "        pdf_page.insert_image(rect, filename=image_path)\n",
        "\n",
        "    # Save the final PDF with compression\n",
        "    pdf_writer.save(output_pdf_path, deflate=True, compression_effort=9)\n",
        "    pdf_writer.close()\n",
        "\n",
        "    # Clean up temporary images\n",
        "    for image_path in image_paths:\n",
        "        os.remove(image_path)\n",
        "    os.rmdir(temp_images_dir)\n",
        "\n",
        "    print(f\"Dark mode PDF saved to {output_pdf_path}\")\n",
        "\n",
        "# Example usage\n",
        "convert_pdf_to_dark_mode(\n",
        "    \"/content/TELEDETECCION Y CAMBIO GLOBAR COMPENDIO.pdf\",\n",
        "    \"/content/sample_data/Output\",\n",
        "    bg_color=(0, 0, 0),\n",
        "    fg_color=(255, 255, 255),\n",
        "    dpi=150,               # Lower resolution to reduce size\n",
        "    image_quality=80       # Adjust image quality for compression\n",
        ")\n"
      ],
      "metadata": {
        "colab": {
          "base_uri": "https://localhost:8080/"
        },
        "id": "CmlEfCVwaKoE",
        "outputId": "35db535f-59e8-462e-fdd0-5d14e9cdc555"
      },
      "execution_count": 11,
      "outputs": [
        {
          "output_type": "stream",
          "name": "stdout",
          "text": [
            "Dark mode PDF saved to /content/sample_data/Output\n"
          ]
        }
      ]
    }
  ]
}